{
 "cells": [
  {
   "cell_type": "code",
   "execution_count": 2,
   "id": "f19068b7",
   "metadata": {},
   "outputs": [],
   "source": [
    "import matplotlib.pyplot as plt\n",
    "from skimage import data, filters\n",
    "from skimage import io as skio\n",
    "from scipy import ndimage\n",
    "\n",
    "import skimage.morphology as morpho  \n",
    "import skimage.feature as skf\n",
    "from scipy import ndimage as ndi"
   ]
  },
  {
   "cell_type": "code",
   "execution_count": 5,
   "id": "3872c8ca",
   "metadata": {},
   "outputs": [],
   "source": [
    "def RGBtoGRAYnumpy (ima, i =0):\n",
    "    \n",
    "    'If i = 0 (default) Convert from RGB PIL to grayscale numpy'\n",
    "    'If i= 1 convert from RGB numpy to grayscale numpy'\n",
    "  \n",
    "    if i==0:\n",
    "        im = ima.convert('L')\n",
    "        Gima = np.array(im)\n",
    "        return Gima\n",
    "    elif i==1:\n",
    "        h,w,c=ima.shape # obtenemos el tamaño de la imagen original\n",
    "        \n",
    "        Gima=np.zeros((h,w)) # creamos una matriz donde generar la imagen\n",
    "\n",
    "        for i in range(h):\n",
    "            for j in range(w):\n",
    "                    Gima[i,j]=(ima[i,j,0]+ima[i,j,1]+ima[i,j,2])/3# calcular el promedio de los canales r,g,b del pixel i,j con la imagen original\n",
    "                                                                    # guardar ese promedio en el pixel i,j de la imagen generada\n",
    "    else:\n",
    "        print('No valid parameter i: \\n  If i = 0 (default) Convert from RGB PIL to grayscale numpy \\n If i= 1 convert from RGB numpy to grayscale numpy')\n",
    "    \n",
    "    #return Gima\n"
   ]
  },
  {
   "cell_type": "code",
   "execution_count": 6,
   "id": "b21773d4",
   "metadata": {},
   "outputs": [],
   "source": [
    "def histogram(im):\n",
    "    \n",
    "    nl,nc=im.shape\n",
    "    \n",
    "    hist=np.zeros(256)\n",
    "    \n",
    "    for i in range(nl):\n",
    "        for j in range(nc):\n",
    "            hist[im[i][j]]=hist[im[i][j]]+1\n",
    "            \n",
    "    for i in range(256):\n",
    "        hist[i]=hist[i]/(nc*nl)\n",
    "        \n",
    "    return(hist)"
   ]
  },
  {
   "cell_type": "code",
   "execution_count": 9,
   "id": "a59f3176",
   "metadata": {},
   "outputs": [],
   "source": [
    "   \n",
    "def otsu_thresh3(im):\n",
    "    \n",
    "    h=histogram(im)\n",
    "    \n",
    "    m=0\n",
    "    for i in range(256):\n",
    "        m=m+i*h[i]\n",
    "    \n",
    "    maxt1=0\n",
    "    maxt2=0   #modif\n",
    "    maxk=0\n",
    "    \n",
    "    \n",
    "    for t1 in range(256):\n",
    "        for t2 in range(256):     #modif\n",
    "            w0=0\n",
    "            w1=0\n",
    "            w2=0          #modif\n",
    "            m0=0\n",
    "            m1=0\n",
    "            m2=0        #modif\n",
    "            for i in range(t):\n",
    "                w0=w0+h[i]\n",
    "                m0=m0+i*h[i]\n",
    "            if w0 > 0:\n",
    "                m0=m0/w0\n",
    "\n",
    "            for i in range(t1,t2):     #modif\n",
    "                w1=w1+h[i]\n",
    "                m1=m1+i*h[i]\n",
    "            if w1 > 0:   \n",
    "                m1=m1/w1\n",
    "            for i in range(t2,256):    #modif\n",
    "                w2=w2+h[i]\n",
    "                m2=m2+i*h[i]\n",
    "            if w2 > 0:   \n",
    "                m2=m2/w2\n",
    "\n",
    "            k=w0*w1*w2*(m0-m1)*(m0-m1)*(m0-m2)*(m0-m2)*(m1-m2)*(m1-m2)\n",
    "\n",
    "            if k > maxk:\n",
    "                maxk=k\n",
    "                maxt1=t1\n",
    "                maxt2=t2\n",
    "            \n",
    "            \n",
    "    thresh=(maxt1,maxt2)\n",
    "        \n",
    "    return(thresh)"
   ]
  },
  {
   "cell_type": "code",
   "execution_count": null,
   "id": "ef5f7fb8",
   "metadata": {},
   "outputs": [],
   "source": []
  }
 ],
 "metadata": {
  "kernelspec": {
   "display_name": "Python 3 (ipykernel)",
   "language": "python",
   "name": "python3"
  },
  "language_info": {
   "codemirror_mode": {
    "name": "ipython",
    "version": 3
   },
   "file_extension": ".py",
   "mimetype": "text/x-python",
   "name": "python",
   "nbconvert_exporter": "python",
   "pygments_lexer": "ipython3",
   "version": "3.10.6"
  },
  "vscode": {
   "interpreter": {
    "hash": "916dbcbb3f70747c44a77c7bcd40155683ae19c65e1c03b4aa3499c5328201f1"
   }
  }
 },
 "nbformat": 4,
 "nbformat_minor": 5
}
